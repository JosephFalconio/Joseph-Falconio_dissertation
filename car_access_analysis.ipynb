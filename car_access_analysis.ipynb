{
  "nbformat": 4,
  "nbformat_minor": 0,
  "metadata": {
    "colab": {
      "provenance": [],
      "authorship_tag": "ABX9TyNNfxRN9ab4jZHQRxBQ1aok",
      "include_colab_link": true
    },
    "kernelspec": {
      "name": "python3",
      "display_name": "Python 3"
    },
    "language_info": {
      "name": "python"
    }
  },
  "cells": [
    {
      "cell_type": "markdown",
      "metadata": {
        "id": "view-in-github",
        "colab_type": "text"
      },
      "source": [
        "<a href=\"https://colab.research.google.com/github/JosephFalconio/Joseph-Falconio_dissertation/blob/main/car_access_analysis.ipynb\" target=\"_parent\"><img src=\"https://colab.research.google.com/assets/colab-badge.svg\" alt=\"Open In Colab\"/></a>"
      ]
    },
    {
      "cell_type": "code",
      "execution_count": null,
      "metadata": {
        "id": "TrA5KVi9E1Pf"
      },
      "outputs": [],
      "source": [
        "import pandas as pd\n",
        "\n",
        "# Load the dataset\n",
        "df = pd.read_csv(\"car_access.csv\")\n",
        "\n",
        "# Convert relevant columns to numeric\n",
        "cols = [\n",
        "    \"% No car 2001\", \"% car 2001\",\n",
        "    \"% no car 2011\", \"% car 2011\",\n",
        "    \"% no car 2021\", \"% car 2021\"\n",
        "]\n",
        "df[cols] = df[cols].apply(pd.to_numeric, errors=\"coerce\")\n",
        "\n",
        "# Calculate changes\n",
        "df[\"change_car_2001_2021\"] = df[\"% car 2021\"] - df[\"% car 2001\"]\n",
        "df[\"change_no_car_2001_2021\"] = df[\"% no car 2021\"] - df[\"% No car 2001\"]\n",
        "df[\"change_car_2011_2021\"] = df[\"% car 2021\"] - df[\"% car 2011\"]\n",
        "df[\"change_no_car_2011_2021\"] = df[\"% no car 2021\"] - df[\"% no car 2011\"]\n",
        "\n",
        "# Export to CSV\n",
        "df[[\n",
        "    \"LSOA21CD\",\n",
        "    \"change_car_2001_2021\", \"change_no_car_2001_2021\",\n",
        "    \"change_car_2011_2021\", \"change_no_car_2011_2021\"\n",
        "]].to_csv(\"car_access_changes.csv\", index=False)\n"
      ]
    },
    {
      "cell_type": "code",
      "source": [
        "import pandas as pd\n",
        "\n",
        "# Load the dataset\n",
        "df = pd.read_csv(\"car_access_changes.csv\")\n",
        "\n",
        "# Calculate mean changes\n",
        "mean_car_2001_2021 = df[\"change_car_2001_2021\"].mean()\n",
        "mean_no_car_2001_2021 = df[\"change_no_car_2001_2021\"].mean()\n",
        "mean_car_2011_2021 = df[\"change_car_2011_2021\"].mean()\n",
        "mean_no_car_2011_2021 = df[\"change_no_car_2011_2021\"].mean()\n",
        "\n",
        "# Print results\n",
        "print(\"Mean % change in car access (2001–2021):\", round(mean_car_2001_2021, 2))\n",
        "print(\"Mean % change in no car access (2001–2021):\", round(mean_no_car_2001_2021, 2))\n",
        "print(\"Mean % change in car access (2011–2021):\", round(mean_car_2011_2021, 2))\n",
        "print(\"Mean % change in no car access (2011–2021):\", round(mean_no_car_2011_2021, 2))\n"
      ],
      "metadata": {
        "colab": {
          "base_uri": "https://localhost:8080/"
        },
        "id": "E04cvlyBG9sY",
        "outputId": "aacfd786-d888-4465-fd10-d51b81f7d733"
      },
      "execution_count": null,
      "outputs": [
        {
          "output_type": "stream",
          "name": "stdout",
          "text": [
            "Mean % change in car access (2001–2021): 5.94\n",
            "Mean % change in no car access (2001–2021): -5.93\n",
            "Mean % change in car access (2011–2021): 3.39\n",
            "Mean % change in no car access (2011–2021): -3.38\n"
          ]
        }
      ]
    },
    {
      "cell_type": "code",
      "source": [
        "#ELE\n",
        "\n",
        "# Define target LSOAs\n",
        "target_lsoas = [\n",
        "    \"E01011715\", \"E01011719\", \"E01011714\", \"E01011716\", \"E01011717\", \"E01011718\",\n",
        "    \"E01011720\", \"E01011721\", \"E01011722\", \"E01011723\", \"E01011724\",\n",
        "    \"E01011406\", \"E01011407\", \"E01011408\", \"E01011409\", \"E01011410\",\n",
        "    \"E01011412\", \"E01011411\"\n",
        "]\n",
        "\n",
        "# Filter for those LSOAs\n",
        "subset = df[df[\"LSOA21CD\"].isin(target_lsoas)]\n",
        "\n",
        "# Calculate mean changes\n",
        "mean_car_2001_2021 = subset[\"change_car_2001_2021\"].mean()\n",
        "mean_no_car_2001_2021 = subset[\"change_no_car_2001_2021\"].mean()\n",
        "mean_car_2011_2021 = subset[\"change_car_2011_2021\"].mean()\n",
        "mean_no_car_2011_2021 = subset[\"change_no_car_2011_2021\"].mean()\n",
        "\n",
        "# Print results\n",
        "print(\"Mean % change in car access (2001–2021):\", round(mean_car_2001_2021, 2))\n",
        "print(\"Mean % change in no car access (2001–2021):\", round(mean_no_car_2001_2021, 2))\n",
        "print(\"Mean % change in car access (2011–2021):\", round(mean_car_2011_2021, 2))\n",
        "print(\"Mean % change in no car access (2011–2021):\", round(mean_no_car_2011_2021, 2))\n"
      ],
      "metadata": {
        "colab": {
          "base_uri": "https://localhost:8080/"
        },
        "id": "MSccAvZnHR7n",
        "outputId": "9b6e8a87-9a40-4c56-b76f-73a5767b838e"
      },
      "execution_count": null,
      "outputs": [
        {
          "output_type": "stream",
          "name": "stdout",
          "text": [
            "Mean % change in car access (2001–2021): 4.01\n",
            "Mean % change in no car access (2001–2021): -4.0\n",
            "Mean % change in car access (2011–2021): 2.09\n",
            "Mean % change in no car access (2011–2021): -2.08\n"
          ]
        }
      ]
    },
    {
      "cell_type": "code",
      "source": [
        "#2001-2021\n",
        "\n",
        "# Define target LSOAs\n",
        "target_lsoas = [\n",
        "    \"E01011579\", \"E01011583\", \"E01011526\", \"E01011466\", \"E01011541\",\n",
        "    \"E01011336\", \"E01011611\", \"E01011528\", \"E01011609\", \"E01011574\"\n",
        "]\n",
        "\n",
        "# Filter for those LSOAs\n",
        "subset = df[df[\"LSOA21CD\"].isin(target_lsoas)]\n",
        "\n",
        "# Calculate mean changes (2001–2021 only)\n",
        "mean_car_2001_2021 = subset[\"change_car_2001_2021\"].mean()\n",
        "mean_no_car_2001_2021 = subset[\"change_no_car_2001_2021\"].mean()\n",
        "\n",
        "# Print results\n",
        "print(\"Mean % change in car access (2001–2021):\", round(mean_car_2001_2021, 2))\n",
        "print(\"Mean % change in no car access (2001–2021):\", round(mean_no_car_2001_2021, 2))\n"
      ],
      "metadata": {
        "colab": {
          "base_uri": "https://localhost:8080/"
        },
        "id": "qIFF0NvWHYcg",
        "outputId": "2e76f23c-8f7d-4297-bdb0-d327d9d68946"
      },
      "execution_count": null,
      "outputs": [
        {
          "output_type": "stream",
          "name": "stdout",
          "text": [
            "Mean % change in car access (2001–2021): 7.58\n",
            "Mean % change in no car access (2001–2021): -7.56\n"
          ]
        }
      ]
    },
    {
      "cell_type": "code",
      "source": [
        "#2011-2021\n",
        "# Define target LSOAs\n",
        "target_lsoas = [\n",
        "    \"E01011516\", \"E01011515\", \"E01011323\", \"E01011693\", \"E01011673\",\n",
        "    \"E01011276\", \"E01011632\", \"E01011735\", \"E01011293\", \"E01011283\"\n",
        "]\n",
        "\n",
        "# Filter for those LSOAs\n",
        "subset = df[df[\"LSOA21CD\"].isin(target_lsoas)]\n",
        "\n",
        "# Calculate mean changes (2011–2021 only)\n",
        "mean_car_2011_2021 = subset[\"change_car_2011_2021\"].mean()\n",
        "mean_no_car_2011_2021 = subset[\"change_no_car_2011_2021\"].mean()\n",
        "\n",
        "# Print results\n",
        "print(\"Mean % change in car access (2011–2021):\", round(mean_car_2011_2021, 2))\n",
        "print(\"Mean % change in no car access (2011–2021):\", round(mean_no_car_2011_2021, 2))"
      ],
      "metadata": {
        "colab": {
          "base_uri": "https://localhost:8080/"
        },
        "id": "6wJUcI39HpW3",
        "outputId": "fb44af5b-d08d-40d7-c376-805c8170b1d6"
      },
      "execution_count": null,
      "outputs": [
        {
          "output_type": "stream",
          "name": "stdout",
          "text": [
            "Mean % change in car access (2011–2021): 15.8\n",
            "Mean % change in no car access (2011–2021): -15.78\n"
          ]
        }
      ]
    }
  ]
}