{
  "nbformat": 4,
  "nbformat_minor": 0,
  "metadata": {
    "colab": {
      "provenance": [],
      "authorship_tag": "ABX9TyPi6QyOp7ojIrUwm8FFScCU",
      "include_colab_link": true
    },
    "kernelspec": {
      "name": "python3",
      "display_name": "Python 3"
    },
    "language_info": {
      "name": "python"
    }
  },
  "cells": [
    {
      "cell_type": "markdown",
      "metadata": {
        "id": "view-in-github",
        "colab_type": "text"
      },
      "source": [
        "<a href=\"https://colab.research.google.com/github/JosephFalconio/Joseph-Falconio_dissertation/blob/main/cleaning.ipynb\" target=\"_parent\"><img src=\"https://colab.research.google.com/assets/colab-badge.svg\" alt=\"Open In Colab\"/></a>"
      ]
    },
    {
      "cell_type": "code",
      "source": [
        "import pandas as pd\n",
        "\n",
        "# Step 1: Load the IMD data and lookup table\n",
        "imd = pd.read_csv('IMD_2010_converted.csv')\n",
        "lookup = pd.read_csv('lookup_2011_2021_leeds.csv')\n",
        "\n",
        "# Step 2: Keep only relevant columns\n",
        "imd = imd[['LSOA11CD', 'IMD_Score']]\n",
        "lookup = lookup[['LSOA11CD', 'LSOA21CD', 'ChangeType']]\n",
        "\n",
        "# Step 3: Merge IMD scores onto lookup by LSOA11CD\n",
        "merged = pd.merge(lookup, imd, on='LSOA11CD', how='left')\n",
        "\n",
        "# Step 4: Separate by ChangeType\n",
        "unchanged = merged[merged['ChangeType'] == 'U'].copy()\n",
        "split = merged[merged['ChangeType'] == 'S'].copy()\n",
        "merged_type = merged[merged['ChangeType'] == 'M'].copy()\n",
        "irregular = merged[merged['ChangeType'] == 'X'].copy()\n",
        "\n",
        "# Step 5: Handle 'unchanged' (U) - direct copy\n",
        "# For these, one 2011 LSOA maps to one 2021 LSOA\n",
        "unchanged_result = unchanged[['LSOA21CD', 'IMD_Score']]\n",
        "\n",
        "# Step 6: Handle 'split' (S) - assign same IMD score to all split parts\n",
        "# Just keep all rows with the IMD score repeated\n",
        "split_result = split[['LSOA21CD', 'IMD_Score']]\n",
        "\n",
        "# Step 7: Handle 'merged' (M) - average IMD scores of multiple 2011 LSOAs mapping to one 2021 LSOA\n",
        "merged_avg = merged_type.groupby('LSOA21CD')['IMD_Score'].mean().reset_index()\n",
        "\n",
        "# Step 8: Handle 'irregular' (X) - optional: treat like merged or exclude\n",
        "# Here we treat like merged by averaging\n",
        "irregular_avg = irregular.groupby('LSOA21CD')['IMD_Score'].mean().reset_index()\n",
        "\n",
        "# Step 9: Combine all results\n",
        "final_imd = pd.concat([\n",
        "    unchanged_result,\n",
        "    split_result,\n",
        "    merged_avg,\n",
        "    irregular_avg\n",
        "], ignore_index=True)\n",
        "\n",
        "# Step 10: If duplicates exist (unlikely), average them\n",
        "final_imd = final_imd.groupby('LSOA21CD')['IMD_Score'].mean().reset_index()\n",
        "\n",
        "# Step 11: Save to CSV\n",
        "final_imd.rename(columns={'IMD_Score': 'IMD_2010_in_2021_LSOA'}, inplace=True)\n",
        "final_imd.to_csv('IMD_2010_converted_2021_LSOA.csv', index=False)\n",
        "\n",
        "print(final_imd.head())\n"
      ],
      "metadata": {
        "colab": {
          "base_uri": "https://localhost:8080/"
        },
        "id": "vI9yNHt4WWgw",
        "outputId": "62461153-5326-4276-c420-2d8f3f7758d1"
      },
      "execution_count": null,
      "outputs": [
        {
          "output_type": "stream",
          "name": "stdout",
          "text": [
            "    LSOA21CD  IMD_2010_in_2021_LSOA\n",
            "0  E01011264                    7.0\n",
            "1  E01011265                    9.0\n",
            "2  E01011266                   10.0\n",
            "3  E01011267                    5.0\n",
            "4  E01011268                    4.0\n"
          ]
        }
      ]
    }
  ]
}