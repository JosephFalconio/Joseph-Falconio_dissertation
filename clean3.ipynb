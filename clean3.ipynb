{
  "nbformat": 4,
  "nbformat_minor": 0,
  "metadata": {
    "colab": {
      "provenance": [],
      "authorship_tag": "ABX9TyO5SEufEsqQhkxgeBho4VA2",
      "include_colab_link": true
    },
    "kernelspec": {
      "name": "python3",
      "display_name": "Python 3"
    },
    "language_info": {
      "name": "python"
    }
  },
  "cells": [
    {
      "cell_type": "markdown",
      "metadata": {
        "id": "view-in-github",
        "colab_type": "text"
      },
      "source": [
        "<a href=\"https://colab.research.google.com/github/JosephFalconio/Joseph-Falconio_dissertation/blob/main/clean3.ipynb\" target=\"_parent\"><img src=\"https://colab.research.google.com/assets/colab-badge.svg\" alt=\"Open In Colab\"/></a>"
      ]
    },
    {
      "cell_type": "code",
      "execution_count": null,
      "metadata": {
        "colab": {
          "base_uri": "https://localhost:8080/"
        },
        "id": "ymguM9n0TssK",
        "outputId": "a2cebff7-a60e-4fd2-89ff-85b34f8a86c5"
      },
      "outputs": [
        {
          "output_type": "stream",
          "name": "stdout",
          "text": [
            "    LSOA21CD  All categories: Method of travel to work    WFH  \\\n",
            "0  E01011264                                     950.0   59.0   \n",
            "1  E01011265                                    1114.0   79.0   \n",
            "2  E01011266                                    1574.0  145.0   \n",
            "3  E01011267                                    1022.0   62.0   \n",
            "4  E01011268                                     983.0   38.0   \n",
            "\n",
            "   Underground, metro, light rail, tram  Train  Bus, minibus or coach  Taxi  \\\n",
            "0                                   1.0   30.0                   40.0   4.0   \n",
            "1                                   1.0  167.0                   25.0   2.0   \n",
            "2                                   3.0  163.0                   20.0   4.0   \n",
            "3                                   0.0   85.0                   34.0   2.0   \n",
            "4                                   0.0   29.0                   43.0   3.0   \n",
            "\n",
            "   Motorcycle, scooter or moped  Driving a car or van  \\\n",
            "0                           5.0                 379.0   \n",
            "1                           4.0                 435.0   \n",
            "2                           4.0                 768.0   \n",
            "3                           5.0                 389.0   \n",
            "4                          10.0                 360.0   \n",
            "\n",
            "   Passenger in a car or van  Bicycle  On foot  Other  Not in employment  \\\n",
            "0                       33.0     15.0     68.0    1.0              315.0   \n",
            "1                       30.0     12.0     83.0    3.0              273.0   \n",
            "2                       44.0     10.0     71.0    2.0              340.0   \n",
            "3                       25.0      9.0     79.0    0.0              332.0   \n",
            "4                       41.0     10.0    100.0    1.0              348.0   \n",
            "\n",
            "   Unnamed: 15   Total  \n",
            "0          0.0   635.0  \n",
            "1          0.0   841.0  \n",
            "2          0.0  1234.0  \n",
            "3          0.0   690.0  \n",
            "4          0.0   635.0  \n"
          ]
        }
      ],
      "source": [
        "import pandas as pd\n",
        "\n",
        "# Step 1: Load data\n",
        "age_df = pd.read_csv('/content/travel_method_2011_spec.csv')\n",
        "lookup = pd.read_csv('lookup_2011_2021_leeds.csv')\n",
        "\n",
        "# Step 2: Keep relevant columns\n",
        "lookup = lookup[['LSOA11CD', 'LSOA21CD', 'ChangeType']]\n",
        "\n",
        "# Step 3: Merge age data with lookup\n",
        "merged = pd.merge(lookup, age_df, on='LSOA11CD', how='left')\n",
        "\n",
        "# Step 4: Handle 'unchanged'\n",
        "unchanged = merged[merged['ChangeType'] == 'U'].drop(columns=['LSOA11CD', 'ChangeType'])\n",
        "\n",
        "# Step 5: Handle 'split' — replicate values\n",
        "split = merged[merged['ChangeType'] == 'S'].drop(columns=['LSOA11CD', 'ChangeType'])\n",
        "\n",
        "# Step 6: Handle 'merged' — sum up each column by new LSOA\n",
        "merged_group = merged[merged['ChangeType'] == 'M'].drop(columns=['LSOA11CD', 'ChangeType']).groupby('LSOA21CD').sum(numeric_only=True).reset_index()\n",
        "\n",
        "# Step 7: Handle 'irregular' — treat like merged\n",
        "irregular_group = merged[merged['ChangeType'] == 'X'].drop(columns=['LSOA11CD', 'ChangeType']).groupby('LSOA21CD').sum(numeric_only=True).reset_index()\n",
        "\n",
        "# Step 8: Combine all results\n",
        "combined = pd.concat([unchanged, split, merged_group, irregular_group], ignore_index=True)\n",
        "\n",
        "# Step 9: Clean up duplicates just in case\n",
        "combined = combined.groupby('LSOA21CD').sum(numeric_only=True).reset_index()\n",
        "\n",
        "# Step 10: Save to CSV\n",
        "combined.to_csv('travel_method_2011_converted_to_2021_LSOA.csv', index=False)\n",
        "\n",
        "print(combined.head())"
      ]
    }
  ]
}