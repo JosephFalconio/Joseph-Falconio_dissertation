{
  "nbformat": 4,
  "nbformat_minor": 0,
  "metadata": {
    "colab": {
      "provenance": [],
      "authorship_tag": "ABX9TyMXrzCTPYbf3Er+AWVF3rUf",
      "include_colab_link": true
    },
    "kernelspec": {
      "name": "python3",
      "display_name": "Python 3"
    },
    "language_info": {
      "name": "python"
    }
  },
  "cells": [
    {
      "cell_type": "markdown",
      "metadata": {
        "id": "view-in-github",
        "colab_type": "text"
      },
      "source": [
        "<a href=\"https://colab.research.google.com/github/JosephFalconio/Joseph-Falconio_dissertation/blob/main/housing_analysis.ipynb\" target=\"_parent\"><img src=\"https://colab.research.google.com/assets/colab-badge.svg\" alt=\"Open In Colab\"/></a>"
      ]
    },
    {
      "cell_type": "code",
      "execution_count": null,
      "metadata": {
        "colab": {
          "base_uri": "https://localhost:8080/"
        },
        "collapsed": true,
        "id": "fopbSbVc74WR",
        "outputId": "21fe3353-fbd0-42f8-b58d-51c9b6d07110"
      },
      "outputs": [
        {
          "output_type": "stream",
          "name": "stdout",
          "text": [
            "    LSOA21CD  change_owned_2001_2021  change_owned_2011_2021  \\\n",
            "0  E01011264                8.485569                7.132743   \n",
            "1  E01011265               16.851095               22.693048   \n",
            "2  E01011266               -9.782840               11.959574   \n",
            "3  E01011267               32.497660               33.192192   \n",
            "4  E01011268               47.017874               49.871545   \n",
            "\n",
            "   change_social_rent_2001_2021  change_social_rent_2011_2021  \n",
            "0                    -12.352632                    -10.415044  \n",
            "1                     -3.625547                     -9.260428  \n",
            "2                      5.013807                     -3.406495  \n",
            "3                    -31.753354                    -29.131231  \n",
            "4                    -38.245300                    -42.865041  \n"
          ]
        }
      ],
      "source": [
        "import pandas as pd\n",
        "\n",
        "# Load the dataset\n",
        "df = pd.read_csv(\"owned_social.csv\")\n",
        "\n",
        "# Convert percentage columns to numeric\n",
        "cols = [\n",
        "    \"% owned_2001\", \"% owned_2011\", \"% owned_2021\",\n",
        "    \"% social rent_2001\", \"% social rent_2011\", \"% social rent_2021\"\n",
        "]\n",
        "df[cols] = df[cols].apply(pd.to_numeric, errors=\"coerce\")\n",
        "\n",
        "# Calculate tenure changes\n",
        "df[\"change_owned_2001_2021\"] = df[\"% owned_2021\"] - df[\"% owned_2001\"]\n",
        "df[\"change_owned_2011_2021\"] = df[\"% owned_2021\"] - df[\"% owned_2011\"]\n",
        "df[\"change_social_rent_2001_2021\"] = df[\"% social rent_2021\"] - df[\"% social rent_2001\"]\n",
        "df[\"change_social_rent_2011_2021\"] = df[\"% social rent_2021\"] - df[\"% social rent_2011\"]\n",
        "\n",
        "# Preview result\n",
        "print(df[[\n",
        "    \"LSOA21CD\",\n",
        "    \"change_owned_2001_2021\", \"change_owned_2011_2021\",\n",
        "    \"change_social_rent_2001_2021\", \"change_social_rent_2011_2021\"\n",
        "]].head())\n",
        "\n",
        "# Select relevant columns\n",
        "output = df[[\n",
        "    \"LSOA21CD\",\n",
        "    \"change_owned_2001_2021\", \"change_owned_2011_2021\",\n",
        "    \"change_social_rent_2001_2021\", \"change_social_rent_2011_2021\"\n",
        "]]\n",
        "\n",
        "# Export to CSV\n",
        "output.to_csv(\"tenure_change.csv\", index=False)\n"
      ]
    },
    {
      "cell_type": "code",
      "source": [
        "# Calculate mean changes across all LSOAs\n",
        "mean_owned_2001_2021 = df[\"change_owned_2001_2021\"].mean()\n",
        "mean_owned_2011_2021 = df[\"change_owned_2011_2021\"].mean()\n",
        "mean_social_rent_2001_2021 = df[\"change_social_rent_2001_2021\"].mean()\n",
        "mean_social_rent_2011_2021 = df[\"change_social_rent_2011_2021\"].mean()\n",
        "\n",
        "# Print results\n",
        "print(\"Mean change in ownership (2001–2021):\", round(mean_owned_2001_2021, 2))\n",
        "print(\"Mean change in ownership (2011–2021):\", round(mean_owned_2011_2021, 2))\n",
        "print(\"Mean change in social rent (2001–2021):\", round(mean_social_rent_2001_2021, 2))\n",
        "print(\"Mean change in social rent (2011–2021):\", round(mean_social_rent_2011_2021, 2))\n"
      ],
      "metadata": {
        "colab": {
          "base_uri": "https://localhost:8080/"
        },
        "id": "GkwFerJD8aWX",
        "outputId": "d5acf8e6-cd45-42b2-8813-21288d47cb35"
      },
      "execution_count": null,
      "outputs": [
        {
          "output_type": "stream",
          "name": "stdout",
          "text": [
            "Mean change in ownership (2001–2021): -4.14\n",
            "Mean change in ownership (2011–2021): -1.0\n",
            "Mean change in social rent (2001–2021): -0.61\n",
            "Mean change in social rent (2011–2021): -1.44\n"
          ]
        }
      ]
    },
    {
      "cell_type": "code",
      "source": [
        "# Define ELE LSOAs\n",
        "ele_lsoas = [\n",
        "    \"E01011715\", \"E01011719\", \"E01011714\", \"E01011716\", \"E01011717\", \"E01011718\",\n",
        "    \"E01011720\", \"E01011721\", \"E01011722\", \"E01011723\", \"E01011724\",\n",
        "    \"E01011406\", \"E01011407\", \"E01011408\", \"E01011409\", \"E01011410\",\n",
        "    \"E01011412\", \"E01011411\"\n",
        "]\n",
        "\n",
        "# Filter for ELE LSOAs\n",
        "ele_df = df[df[\"LSOA21CD\"].isin(ele_lsoas)]\n",
        "\n",
        "# Calculate mean changes for ELE\n",
        "mean_owned_2001_2021_ele = ele_df[\"change_owned_2001_2021\"].mean()\n",
        "mean_owned_2011_2021_ele = ele_df[\"change_owned_2011_2021\"].mean()\n",
        "mean_social_rent_2001_2021_ele = ele_df[\"change_social_rent_2001_2021\"].mean()\n",
        "mean_social_rent_2011_2021_ele = ele_df[\"change_social_rent_2011_2021\"].mean()\n",
        "\n",
        "# Print results\n",
        "print(\"ELE mean change in ownership (2001–2021):\", round(mean_owned_2001_2021_ele, 2))\n",
        "print(\"ELE mean change in ownership (2011–2021):\", round(mean_owned_2011_2021_ele, 2))\n",
        "print(\"ELE mean change in social rent (2001–2021):\", round(mean_social_rent_2001_2021_ele, 2))\n",
        "print(\"ELE mean change in social rent (2011–2021):\", round(mean_social_rent_2011_2021_ele, 2))\n"
      ],
      "metadata": {
        "colab": {
          "base_uri": "https://localhost:8080/"
        },
        "id": "9u3qvHHR80MV",
        "outputId": "4a630200-823a-4742-8dfd-50314f8a1dca"
      },
      "execution_count": null,
      "outputs": [
        {
          "output_type": "stream",
          "name": "stdout",
          "text": [
            "ELE mean change in ownership (2001–2021): -8.99\n",
            "ELE mean change in ownership (2011–2021): -9.43\n",
            "ELE mean change in social rent (2001–2021): 2.14\n",
            "ELE mean change in social rent (2011–2021): 4.45\n"
          ]
        }
      ]
    },
    {
      "cell_type": "code",
      "source": [
        "# 2001-2021\n",
        "\n",
        "# Define target LSOAs\n",
        "target_lsoas = [\n",
        "    \"E01011579\", \"E01011583\", \"E01011526\", \"E01011466\", \"E01011541\",\n",
        "    \"E01011336\", \"E01011611\", \"E01011528\", \"E01011609\", \"E01011574\"\n",
        "]\n",
        "\n",
        "# Filter dataset\n",
        "target_df = df[df[\"LSOA21CD\"].isin(target_lsoas)]\n",
        "\n",
        "# Calculate mean change for 2001–2021\n",
        "mean_owned_change = target_df[\"change_owned_2001_2021\"].mean()\n",
        "mean_social_rent_change = target_df[\"change_social_rent_2001_2021\"].mean()\n",
        "\n",
        "# Print results\n",
        "print(\"Mean change in ownership (2001–2021):\", round(mean_owned_change, 2))\n",
        "print(\"Mean change in social rent (2001–2021):\", round(mean_social_rent_change, 2))\n"
      ],
      "metadata": {
        "colab": {
          "base_uri": "https://localhost:8080/"
        },
        "id": "Hvm9u3A59Eht",
        "outputId": "492f8860-0f5c-452c-dda8-8ea556763d0e"
      },
      "execution_count": null,
      "outputs": [
        {
          "output_type": "stream",
          "name": "stdout",
          "text": [
            "Mean change in ownership (2001–2021): 1.95\n",
            "Mean change in social rent (2001–2021): -8.09\n"
          ]
        }
      ]
    },
    {
      "cell_type": "code",
      "source": [
        "# 2011-2021\n",
        "\n",
        "# Define LSOAs\n",
        "group_c_lsoas = [\n",
        "    \"E01011516\", \"E01011515\", \"E01011323\", \"E01011693\", \"E01011673\",\n",
        "    \"E01011276\", \"E01011632\", \"E01011735\", \"E01011293\", \"E01011283\"\n",
        "]\n",
        "\n",
        "# Filter dataset\n",
        "group_c_df = df[df[\"LSOA21CD\"].isin(group_c_lsoas)]\n",
        "\n",
        "# Calculate mean change for 2011–2021\n",
        "mean_owned_change_2011_2021 = group_c_df[\"change_owned_2011_2021\"].mean()\n",
        "mean_social_rent_change_2011_2021 = group_c_df[\"change_social_rent_2011_2021\"].mean()\n",
        "\n",
        "# Print results\n",
        "print(\"Mean change in ownership (2011–2021):\", round(mean_owned_change_2011_2021, 2))\n",
        "print(\"Mean change in social rent (2011–2021):\", round(mean_social_rent_change_2011_2021, 2))\n",
        "\n"
      ],
      "metadata": {
        "colab": {
          "base_uri": "https://localhost:8080/"
        },
        "id": "gvoGpJPI9S6M",
        "outputId": "e0799fb1-73e3-4697-a2ff-e479265c81ea"
      },
      "execution_count": null,
      "outputs": [
        {
          "output_type": "stream",
          "name": "stdout",
          "text": [
            "Mean change in ownership (2011–2021): 20.0\n",
            "Mean change in social rent (2011–2021): -10.63\n"
          ]
        }
      ]
    }
  ]
}