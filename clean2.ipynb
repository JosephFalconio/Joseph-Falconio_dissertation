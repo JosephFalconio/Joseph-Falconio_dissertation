{
  "nbformat": 4,
  "nbformat_minor": 0,
  "metadata": {
    "colab": {
      "provenance": [],
      "authorship_tag": "ABX9TyMSIEPj066f2qJslVYJCE1a",
      "include_colab_link": true
    },
    "kernelspec": {
      "name": "python3",
      "display_name": "Python 3"
    },
    "language_info": {
      "name": "python"
    }
  },
  "cells": [
    {
      "cell_type": "markdown",
      "metadata": {
        "id": "view-in-github",
        "colab_type": "text"
      },
      "source": [
        "<a href=\"https://colab.research.google.com/github/JosephFalconio/Joseph-Falconio_dissertation/blob/main/clean2.ipynb\" target=\"_parent\"><img src=\"https://colab.research.google.com/assets/colab-badge.svg\" alt=\"Open In Colab\"/></a>"
      ]
    },
    {
      "cell_type": "code",
      "execution_count": null,
      "metadata": {
        "colab": {
          "base_uri": "https://localhost:8080/"
        },
        "id": "L07SnyjJMpKC",
        "outputId": "f6cf0762-e96e-4957-c68b-24be0b7675e5"
      },
      "outputs": [
        {
          "output_type": "stream",
          "name": "stdout",
          "text": [
            "    LSOA11CD  Total   WFH  Underground, metro, light rail, tram  Train  \\\n",
            "0  E01011264  721.0  56.0                                   0.0   12.0   \n",
            "1  E01011265  791.0  65.0                                   3.0  118.0   \n",
            "2  E01011266  699.0  86.0                                   3.0   35.0   \n",
            "3  E01011267  698.0  41.0                                   0.0   34.0   \n",
            "4  E01011268  641.0  35.0                                   0.0   21.0   \n",
            "\n",
            "   Bus, minibus or coach  Motorcycle, scooter or moped  Driving a car or van  \\\n",
            "0                   58.0                           4.0                 397.0   \n",
            "1                   36.0                          11.0                 393.0   \n",
            "2                   28.0                           8.0                 439.0   \n",
            "3                   55.0                           6.0                 374.0   \n",
            "4                   57.0                          10.0                 330.0   \n",
            "\n",
            "   Passenger in a car or van  Taxi   Bicycle  On foot  Other  \n",
            "0                       73.0    3.0     20.0     95.0    3.0  \n",
            "1                       29.0    0.0     12.0    121.0    3.0  \n",
            "2                       34.0    3.0      6.0     57.0    0.0  \n",
            "3                       51.0    4.0      8.0    122.0    3.0  \n",
            "4                       51.0    3.0     13.0    121.0    0.0  \n"
          ]
        }
      ],
      "source": [
        "import pandas as pd\n",
        "\n",
        "# Step 1: Load data\n",
        "age_df = pd.read_csv('/content/travel_method_2001.csv')\n",
        "lookup = pd.read_csv('lookup_2001_2011_leeds.csv')\n",
        "\n",
        "# Step 2: Keep relevant columns\n",
        "lookup = lookup[['LSOA01CD', 'LSOA11CD', 'ChangeType']]\n",
        "\n",
        "# Step 3: Merge age data with lookup\n",
        "merged = pd.merge(lookup, age_df, on='LSOA01CD', how='left')\n",
        "\n",
        "# Step 4: Handle 'unchanged'\n",
        "unchanged = merged[merged['ChangeType'] == 'U'].drop(columns=['LSOA01CD', 'ChangeType'])\n",
        "\n",
        "# Step 5: Handle 'split' — replicate values\n",
        "split = merged[merged['ChangeType'] == 'S'].drop(columns=['LSOA01CD', 'ChangeType'])\n",
        "\n",
        "# Step 6: Handle 'merged' — sum up each column by new LSOA\n",
        "merged_group = merged[merged['ChangeType'] == 'M'].drop(columns=['LSOA01CD', 'ChangeType']).groupby('LSOA11CD').sum(numeric_only=True).reset_index()\n",
        "\n",
        "# Step 7: Handle 'irregular' — treat like merged\n",
        "irregular_group = merged[merged['ChangeType'] == 'X'].drop(columns=['LSOA01CD', 'ChangeType']).groupby('LSOA11CD').sum(numeric_only=True).reset_index()\n",
        "\n",
        "# Step 8: Combine all results\n",
        "combined = pd.concat([unchanged, split, merged_group, irregular_group], ignore_index=True)\n",
        "\n",
        "# Step 9: Clean up duplicates just in case\n",
        "combined = combined.groupby('LSOA11CD').sum(numeric_only=True).reset_index()\n",
        "\n",
        "# Step 10: Save to CSV\n",
        "combined.to_csv('travel_method_2001_converted_to_2011_LSOA.csv', index=False)\n",
        "\n",
        "print(combined.head())\n"
      ]
    }
  ]
}