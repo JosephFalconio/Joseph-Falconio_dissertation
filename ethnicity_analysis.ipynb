{
  "nbformat": 4,
  "nbformat_minor": 0,
  "metadata": {
    "colab": {
      "provenance": [],
      "authorship_tag": "ABX9TyPH6iLzoiq6yFFVaIngh2YX",
      "include_colab_link": true
    },
    "kernelspec": {
      "name": "python3",
      "display_name": "Python 3"
    },
    "language_info": {
      "name": "python"
    }
  },
  "cells": [
    {
      "cell_type": "markdown",
      "metadata": {
        "id": "view-in-github",
        "colab_type": "text"
      },
      "source": [
        "<a href=\"https://colab.research.google.com/github/JosephFalconio/Joseph-Falconio_dissertation/blob/main/ethnicity_analysis.ipynb\" target=\"_parent\"><img src=\"https://colab.research.google.com/assets/colab-badge.svg\" alt=\"Open In Colab\"/></a>"
      ]
    },
    {
      "cell_type": "code",
      "execution_count": null,
      "metadata": {
        "colab": {
          "base_uri": "https://localhost:8080/"
        },
        "id": "c5tZ_LWCDiII",
        "outputId": "21d483b2-f765-46ee-844c-7c613f879757"
      },
      "outputs": [
        {
          "output_type": "stream",
          "name": "stdout",
          "text": [
            "✅ Ethnicity change calculations complete.\n"
          ]
        }
      ],
      "source": [
        "import pandas as pd\n",
        "\n",
        "# Load datasets\n",
        "df_2001 = pd.read_csv('ethnicity_2001_converted_to_2021_LSOA.csv')\n",
        "df_2011 = pd.read_csv('ethnicity_2011_converted_to_2021_LSOA (3).csv')\n",
        "df_2021 = pd.read_csv('ethnicity_2021.csv')\n",
        "\n",
        "# Standardise column names\n",
        "df_2001.columns = df_2001.columns.str.strip().str.replace(' ', '_').str.replace('%_', 'pct_')\n",
        "df_2011.columns = df_2011.columns.str.strip().str.replace(' ', '_').str.replace('%_', 'pct_')\n",
        "df_2021.columns = df_2021.columns.str.strip().str.replace(' ', '_').str.replace('%_', 'pct_')\n",
        "df_2021 = df_2021.rename(columns={'Total:_All_usual_residents': 'Total_2021'})\n",
        "\n",
        "# Drop extra Name column from 2021\n",
        "df_2021 = df_2021.drop(columns=['Name'])\n",
        "\n",
        "# Rename % columns to include year suffix\n",
        "for col in df_2001.columns:\n",
        "    if col.startswith('pct_'):\n",
        "        df_2001 = df_2001.rename(columns={col: col + '_2001'})\n",
        "for col in df_2011.columns:\n",
        "    if col.startswith('pct_'):\n",
        "        df_2011 = df_2011.rename(columns={col: col + '_2011'})\n",
        "for col in df_2021.columns:\n",
        "    if col.startswith('pct_'):\n",
        "        df_2021 = df_2021.rename(columns={col: col + '_2021'})\n",
        "\n",
        "# Merge all three datasets on LSOA21CD\n",
        "df = df_2001.merge(df_2011, on='LSOA21CD').merge(df_2021, on='LSOA21CD')\n",
        "\n",
        "# Convert all % columns to numeric\n",
        "pct_cols = [col for col in df.columns if col.startswith('pct_')]\n",
        "df[pct_cols] = df[pct_cols].apply(pd.to_numeric, errors='coerce')\n",
        "\n",
        "# Define ethnicity groups\n",
        "groups = ['White', 'Mixed', 'Asian', 'Black', 'Other']\n",
        "\n",
        "# Calculate percentage point changes\n",
        "for group in groups:\n",
        "    df[f'Change_{group}_2001_2021'] = df[f'pct_{group}_2021'] - df[f'pct_{group}_2001']\n",
        "    df[f'Change_{group}_2011_2021'] = df[f'pct_{group}_2021'] - df[f'pct_{group}_2011']\n",
        "    df[f'Change_{group}_2001_2011'] = df[f'pct_{group}_2011'] - df[f'pct_{group}_2001']\n",
        "\n",
        "#  Export final dataset\n",
        "df.to_csv('Ethnicity_merged_with_changes.csv', index=False)\n",
        "print(\"Ethnicity change calculations complete.\")\n"
      ]
    },
    {
      "cell_type": "code",
      "source": [
        "#  Define East Leeds LSOAs\n",
        "ele_lsoas = [\n",
        "    'E01011715', 'E01011719', 'E01011714', 'E01011716', 'E01011717', 'E01011718',\n",
        "    'E01011720', 'E01011721', 'E01011722', 'E01011723', 'E01011724',\n",
        "    'E01011406', 'E01011407', 'E01011408', 'E01011409', 'E01011410',\n",
        "    'E01011412', 'E01011411'\n",
        "]\n",
        "\n",
        "# Filter for ELE only\n",
        "df_ele = df[df['LSOA21CD'].isin(ele_lsoas)].copy()\n",
        "\n",
        "# Select only change columns + LSOA ID\n",
        "change_cols = [col for col in df.columns if col.startswith('Change_')]\n",
        "df_ele = df_ele[['LSOA21CD'] + change_cols]\n",
        "\n",
        "# Export to CSV\n",
        "df_ele.to_csv('Ethnicity_ELE_changes_only.csv', index=False)\n",
        "print(\"Exported ELE ethnicity change columns only.\")\n"
      ],
      "metadata": {
        "colab": {
          "base_uri": "https://localhost:8080/"
        },
        "id": "CJGpzkQHN5yI",
        "outputId": "88d56c2c-0469-473a-9231-5e4307771936"
      },
      "execution_count": null,
      "outputs": [
        {
          "output_type": "stream",
          "name": "stdout",
          "text": [
            "✅ Exported ELE ethnicity change columns only.\n"
          ]
        }
      ]
    },
    {
      "cell_type": "code",
      "source": [
        "# Calculate mean change for each ethnicity group across ELE\n",
        "mean_changes = df_ele.drop(columns='LSOA21CD').mean().round(2)\n",
        "\n",
        "# === Print results ===\n",
        "print(\"Mean Ethnicity Change in East Leeds (Percentage Points):\")\n",
        "print(mean_changes)\n",
        "\n",
        "# Save to CSV\n",
        "mean_changes.to_frame(name='Mean_Change_ELE').to_csv('Ethnicity_ELE_mean_changes.csv')\n"
      ],
      "metadata": {
        "colab": {
          "base_uri": "https://localhost:8080/"
        },
        "id": "WTC7RfGCOQbw",
        "outputId": "4c0c1673-1c61-49ee-8ad6-3793d901f062"
      },
      "execution_count": null,
      "outputs": [
        {
          "output_type": "stream",
          "name": "stdout",
          "text": [
            "📊 Mean Ethnicity Change in East Leeds (Percentage Points):\n",
            "Change_White_2001_2021   -6.32\n",
            "Change_White_2011_2021   -4.09\n",
            "Change_White_2001_2011   -2.23\n",
            "Change_Mixed_2001_2021    1.93\n",
            "Change_Mixed_2011_2021    1.26\n",
            "Change_Mixed_2001_2011    0.67\n",
            "Change_Asian_2001_2021    2.67\n",
            "Change_Asian_2011_2021    1.68\n",
            "Change_Asian_2001_2011    0.99\n",
            "Change_Black_2001_2021    1.45\n",
            "Change_Black_2011_2021    0.78\n",
            "Change_Black_2001_2011    0.67\n",
            "Change_Other_2001_2021    0.27\n",
            "Change_Other_2011_2021    0.38\n",
            "Change_Other_2001_2011   -0.10\n",
            "dtype: float64\n"
          ]
        }
      ]
    },
    {
      "cell_type": "code",
      "source": [
        "# Define Top 10 2011 - 2021 Growth LSOAs\n",
        "top10_lsoas = [\n",
        "    'E01011516', 'E01011515', 'E01011323', 'E01011693', 'E01011673',\n",
        "    'E01011276', 'E01011632', 'E01011735', 'E01011293', 'E01011283'\n",
        "\n",
        "]\n",
        "\n",
        "# Filter for Top 10 only\n",
        "df_top10 = df[df['LSOA21CD'].isin(top10_lsoas)].copy()\n",
        "\n",
        "# elect only change columns + LSOA ID\n",
        "change_cols = [col for col in df.columns if col.startswith('Change_')]\n",
        "df_top10 = df_top10[['LSOA21CD'] + change_cols]\n",
        "\n",
        "# Export to CSV\n",
        "df_top10.to_csv('Ethnicity_Top10_changes_only.csv', index=False)\n",
        "print(\"Exported Top 10 ethnicity change columns only.\")\n"
      ],
      "metadata": {
        "colab": {
          "base_uri": "https://localhost:8080/"
        },
        "collapsed": true,
        "id": "dPr73kkkOshg",
        "outputId": "e7bbcea2-7ce2-4f3e-eb52-9fc99b0ce75d"
      },
      "execution_count": null,
      "outputs": [
        {
          "output_type": "stream",
          "name": "stdout",
          "text": [
            "✅ Exported Top 10 ethnicity change columns only.\n"
          ]
        }
      ]
    },
    {
      "cell_type": "code",
      "source": [
        "# Top 10% urban change 11-21\n",
        "#  Calculate mean change for each ethnicity group across Top 10\n",
        "mean_changes_top10 = df_top10.drop(columns='LSOA21CD').mean().round(2)\n",
        "\n",
        "# Print results\n",
        "print(\"Mean Ethnicity Change in Top 10 Growth LSOAs (Percentage Points):\")\n",
        "print(mean_changes_top10)\n",
        "\n",
        "# Save to CSV\n",
        "mean_changes_top10.to_frame(name='Mean_Change_Top10').to_csv('Ethnicity_Top10_mean_changes.csv')\n"
      ],
      "metadata": {
        "colab": {
          "base_uri": "https://localhost:8080/"
        },
        "collapsed": true,
        "id": "670x_VufPOsI",
        "outputId": "6f26400a-27bb-43ab-cdf8-949cfb199c3c"
      },
      "execution_count": null,
      "outputs": [
        {
          "output_type": "stream",
          "name": "stdout",
          "text": [
            "📊 Mean Ethnicity Change in Top 10 Growth LSOAs (Percentage Points):\n",
            "Change_White_2001_2021   -11.63\n",
            "Change_White_2011_2021    -5.32\n",
            "Change_White_2001_2011    -6.31\n",
            "Change_Mixed_2001_2021     1.70\n",
            "Change_Mixed_2011_2021     0.54\n",
            "Change_Mixed_2001_2011     1.16\n",
            "Change_Asian_2001_2021     4.71\n",
            "Change_Asian_2011_2021     1.57\n",
            "Change_Asian_2001_2011     3.14\n",
            "Change_Black_2001_2021     3.68\n",
            "Change_Black_2011_2021     1.92\n",
            "Change_Black_2001_2011     1.75\n",
            "Change_Other_2001_2021     1.58\n",
            "Change_Other_2011_2021     1.32\n",
            "Change_Other_2001_2011     0.26\n",
            "dtype: float64\n"
          ]
        }
      ]
    },
    {
      "cell_type": "code",
      "source": [
        "# Define Top 10 2001–2021 Growth LSOAs\n",
        "top10_lsoas = [\n",
        "    'E01011579', 'E01011583', 'E01011526', 'E01011466', 'E01011541',\n",
        "    'E01011336', 'E01011611', 'E01011528', 'E01011609', 'E01011574'\n",
        "]\n",
        "\n",
        "# Filter for Top 10 only\n",
        "df_top10 = df[df['LSOA21CD'].isin(top10_lsoas)].copy()\n",
        "\n",
        "# Select only change columns + LSOA ID\n",
        "change_cols = [col for col in df.columns if col.startswith('Change_')]\n",
        "df_top10 = df_top10[['LSOA21CD'] + change_cols]\n",
        "\n",
        "#  Export to CSV\n",
        "df_top10.to_csv('Ethnicity_Top10_2001_2021_changes_only.csv', index=False)\n",
        "print(\"Exported Top 10 ethnicity change columns (2001–2021) only.\")\n"
      ],
      "metadata": {
        "colab": {
          "base_uri": "https://localhost:8080/"
        },
        "collapsed": true,
        "id": "sZChkynYR162",
        "outputId": "d6b6187e-97ee-4e4a-923e-36b9143df7a9"
      },
      "execution_count": null,
      "outputs": [
        {
          "output_type": "stream",
          "name": "stdout",
          "text": [
            "✅ Exported Top 10 ethnicity change columns (2001–2021) only.\n"
          ]
        }
      ]
    },
    {
      "cell_type": "code",
      "source": [
        "# Filter only 2001–2021 change columns\n",
        "change_2001_2021_cols = [col for col in df_top10.columns if '2001_2021' in col]\n",
        "\n",
        "#  Calculate mean change per ethnicity group\n",
        "mean_changes_top10 = df_top10[change_2001_2021_cols].mean().round(2)\n",
        "\n",
        "# Print results\n",
        "print(\"Mean Ethnicity Change in Top 10 Growth LSOAs (2001–2021):\")\n",
        "print(mean_changes_top10)\n",
        "\n",
        "#  Optional: Save to CSV\n",
        "mean_changes_top10.to_frame(name='Mean_Change_2001_2021').to_csv('Ethnicity_Top10_mean_changes_2001_2021.csv')\n",
        "\n",
        "\n"
      ],
      "metadata": {
        "colab": {
          "base_uri": "https://localhost:8080/"
        },
        "id": "1c0Lm4H7SNLd",
        "outputId": "fc55a7e1-862c-4545-ede6-31138faef3f7"
      },
      "execution_count": null,
      "outputs": [
        {
          "output_type": "stream",
          "name": "stdout",
          "text": [
            "📊 Mean Ethnicity Change in Top 10 Growth LSOAs (2001–2021):\n",
            "Change_White_2001_2021   -4.03\n",
            "Change_Mixed_2001_2021    0.73\n",
            "Change_Asian_2001_2021    1.61\n",
            "Change_Black_2001_2021    1.28\n",
            "Change_Other_2001_2021    0.44\n",
            "dtype: float64\n"
          ]
        }
      ]
    },
    {
      "cell_type": "code",
      "source": [
        "# Calculate mean change for each ethnicity group across Leeds\n",
        "mean_changes_2001_2011 = df[[f'Change_{group}_2001_2021' for group in groups]].mean().round(2)\n",
        "mean_changes_2011_2021 = df[[f'Change_{group}_2011_2021' for group in groups]].mean().round(2)\n",
        "\n",
        "# Print results\n",
        "print(\"📊 Mean Ethnicity Change in Leeds (2001–2021):\")\n",
        "print(mean_changes_2001_2011)\n",
        "\n",
        "print(\"\\n Mean Ethnicity Change in Leeds (2011–2021):\")\n",
        "print(mean_changes_2011_2021)\n",
        "\n",
        "# Optional: Save to CSV\n",
        "mean_changes_2001_2011.to_frame(name='Mean_Change_2001_2021').to_csv('Ethnicity_Leeds_mean_changes_2001_2021.csv')\n",
        "mean_changes_2011_2021.to_frame(name='Mean_Change_2011_2021').to_csv('Ethnicity_Leeds_mean_changes_2011_2021.csv')\n"
      ],
      "metadata": {
        "colab": {
          "base_uri": "https://localhost:8080/"
        },
        "id": "iHFuB6HBUaXa",
        "outputId": "2e4bab0d-89b2-46ee-97c0-0fbde7377902"
      },
      "execution_count": null,
      "outputs": [
        {
          "output_type": "stream",
          "name": "stdout",
          "text": [
            "📊 Mean Ethnicity Change in Leeds (2001–2021):\n",
            "Change_White_2001_2021   -11.64\n",
            "Change_Mixed_2001_2021     1.92\n",
            "Change_Asian_2001_2021     4.65\n",
            "Change_Black_2001_2021     3.73\n",
            "Change_Other_2001_2021     1.34\n",
            "dtype: float64\n",
            "\n",
            "📊 Mean Ethnicity Change in Leeds (2011–2021):\n",
            "Change_White_2011_2021   -5.50\n",
            "Change_Mixed_2011_2021    0.76\n",
            "Change_Asian_2011_2021    1.66\n",
            "Change_Black_2011_2021    1.93\n",
            "Change_Other_2011_2021    1.14\n",
            "dtype: float64\n"
          ]
        }
      ]
    }
  ]
}