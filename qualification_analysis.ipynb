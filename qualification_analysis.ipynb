{
  "nbformat": 4,
  "nbformat_minor": 0,
  "metadata": {
    "colab": {
      "provenance": [],
      "authorship_tag": "ABX9TyMfsEc8PF5LvrK4d0mhpWzv",
      "include_colab_link": true
    },
    "kernelspec": {
      "name": "python3",
      "display_name": "Python 3"
    },
    "language_info": {
      "name": "python"
    }
  },
  "cells": [
    {
      "cell_type": "markdown",
      "metadata": {
        "id": "view-in-github",
        "colab_type": "text"
      },
      "source": [
        "<a href=\"https://colab.research.google.com/github/JosephFalconio/Joseph-Falconio_dissertation/blob/main/qualification_analysis.ipynb\" target=\"_parent\"><img src=\"https://colab.research.google.com/assets/colab-badge.svg\" alt=\"Open In Colab\"/></a>"
      ]
    },
    {
      "cell_type": "code",
      "execution_count": null,
      "metadata": {
        "colab": {
          "base_uri": "https://localhost:8080/"
        },
        "id": "SJ_xj2lRYbUF",
        "outputId": "889f2630-bf8c-44ee-cc79-612a8206a608"
      },
      "outputs": [
        {
          "output_type": "stream",
          "name": "stdout",
          "text": [
            "Overall mean changes across all LSOAs:\n",
            "no_qual_chg_01-21: -13.11\n",
            "no_qual_chg_11-21: -5.35\n",
            "Level_4_change_01-21: 15.46\n",
            "Level_4_change_11-21: 7.72\n"
          ]
        }
      ],
      "source": [
        "import pandas as pd\n",
        "\n",
        "# Load the dataset\n",
        "df = pd.read_csv(\"Qualification_merged.csv\")\n",
        "\n",
        "# Columns to calculate means for\n",
        "cols_to_average = [\n",
        "    \"no_qual_chg_01-21\",\n",
        "    \"no_qual_chg_11-21\",\n",
        "    \"Level_4_change_01-21\",\n",
        "    \"Level_4_change_11-21\"\n",
        "]\n",
        "\n",
        "# Convert columns to numeric (force errors to NaN)\n",
        "df[cols_to_average] = df[cols_to_average].apply(pd.to_numeric, errors=\"coerce\")\n",
        "\n",
        "# Calculate means\n",
        "mean_values = df[cols_to_average].mean()\n",
        "\n",
        "# Print results\n",
        "print(\"Overall mean changes across all LSOAs:\")\n",
        "for col in cols_to_average:\n",
        "    print(f\"{col}: {mean_values[col]:.2f}\")\n"
      ]
    },
    {
      "cell_type": "code",
      "source": [
        "# 2001-2021\n",
        "\n",
        "import pandas as pd\n",
        "\n",
        "# Load the dataset\n",
        "df = pd.read_csv(\"Qualification_merged.csv\")\n",
        "\n",
        "# List of target LSOAs\n",
        "target_lsoas = [\n",
        "    \"E01011579\", \"E01011583\", \"E01011526\", \"E01011466\", \"E01011541\",\n",
        "    \"E01011336\", \"E01011611\", \"E01011528\", \"E01011609\", \"E01011574\"\n",
        "]\n",
        "\n",
        "# Filter rows\n",
        "subset = df[df[\"LSOA21CD\"].isin(target_lsoas)].copy()\n",
        "\n",
        "# Convert columns to numeric safely\n",
        "cols = [\"no_qual_chg_01-21\", \"Level_4_change_01-21\"]\n",
        "subset.loc[:, cols] = subset[cols].apply(pd.to_numeric, errors=\"coerce\")\n",
        "\n",
        "# Calculate and print means\n",
        "mean_subset = subset[cols].mean()\n",
        "print(mean_subset)\n",
        "\n",
        "\n"
      ],
      "metadata": {
        "colab": {
          "base_uri": "https://localhost:8080/"
        },
        "id": "SkTFFzB3g_bl",
        "outputId": "0fb0e313-db3f-429e-abb9-20bc2386b7ca"
      },
      "execution_count": null,
      "outputs": [
        {
          "output_type": "stream",
          "name": "stdout",
          "text": [
            "no_qual_chg_01-21      -13.404464\n",
            "Level_4_change_01-21    13.560739\n",
            "dtype: object\n"
          ]
        }
      ]
    },
    {
      "cell_type": "code",
      "source": [
        "#2011-2021\n",
        "\n",
        "import pandas as pd\n",
        "\n",
        "# Load the dataset\n",
        "df = pd.read_csv(\"Qualification_merged.csv\")\n",
        "\n",
        "# Updated list of target LSOAs\n",
        "target_lsoas = [\n",
        "    \"E01011516\", \"E01011515\", \"E01011323\", \"E01011693\", \"E01011673\",\n",
        "    \"E01011276\", \"E01011632\", \"E01011735\", \"E01011293\", \"E01011283\"\n",
        "]\n",
        "\n",
        "# Filter rows\n",
        "subset = df[df[\"LSOA21CD\"].isin(target_lsoas)].copy()\n",
        "\n",
        "# Convert columns to numeric safely\n",
        "cols = [\"no_qual_chg_11-21\", \"Level_4_change_11-21\"]\n",
        "subset.loc[:, cols] = subset[cols].apply(pd.to_numeric, errors=\"coerce\")\n",
        "\n",
        "# Calculate and print means\n",
        "mean_subset = subset[cols].mean()\n",
        "print(mean_subset)\n"
      ],
      "metadata": {
        "colab": {
          "base_uri": "https://localhost:8080/"
        },
        "id": "fQnsYrcniEaX",
        "outputId": "513d8e84-f1e7-4e39-c229-70fc83f464b1"
      },
      "execution_count": null,
      "outputs": [
        {
          "output_type": "stream",
          "name": "stdout",
          "text": [
            "no_qual_chg_11-21      -7.551109\n",
            "Level_4_change_11-21    6.343414\n",
            "dtype: float64\n"
          ]
        }
      ]
    },
    {
      "cell_type": "code",
      "source": [
        "# ELE\n",
        "\n",
        "import pandas as pd\n",
        "\n",
        "# Load the dataset\n",
        "df = pd.read_csv(\"Qualification_merged.csv\")\n",
        "\n",
        "# List of specified LSOAs\n",
        "target_lsoas = [\n",
        "    \"E01011715\", \"E01011719\", \"E01011714\", \"E01011716\", \"E01011717\", \"E01011718\",\n",
        "    \"E01011720\", \"E01011721\", \"E01011722\", \"E01011723\", \"E01011724\",\n",
        "    \"E01011406\", \"E01011407\", \"E01011408\", \"E01011409\", \"E01011410\",\n",
        "    \"E01011412\", \"E01011411\"\n",
        "]\n",
        "\n",
        "# Filter rows\n",
        "subset = df[df[\"LSOA21CD\"].isin(target_lsoas)].copy()\n",
        "\n",
        "# Columns to calculate means for\n",
        "cols = [\n",
        "    \"no_qual_chg_01-21\", \"Level_4_change_01-21\",\n",
        "    \"no_qual_chg_11-21\", \"Level_4_change_11-21\"\n",
        "]\n",
        "\n",
        "# Convert to numeric safely\n",
        "subset.loc[:, cols] = subset[cols].apply(pd.to_numeric, errors=\"coerce\")\n",
        "\n",
        "# Calculate and print means\n",
        "mean_subset = subset[cols].mean()\n",
        "print(mean_subset)\n"
      ],
      "metadata": {
        "colab": {
          "base_uri": "https://localhost:8080/"
        },
        "id": "HLBAVezxigoO",
        "outputId": "b7698aab-96d9-420b-b5a1-e94283f76aa9"
      },
      "execution_count": null,
      "outputs": [
        {
          "output_type": "stream",
          "name": "stdout",
          "text": [
            "no_qual_chg_01-21      -13.815364\n",
            "Level_4_change_01-21    19.404748\n",
            "no_qual_chg_11-21       -6.534036\n",
            "Level_4_change_11-21    13.010591\n",
            "dtype: object\n"
          ]
        }
      ]
    }
  ]
}