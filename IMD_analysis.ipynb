{
  "nbformat": 4,
  "nbformat_minor": 0,
  "metadata": {
    "colab": {
      "provenance": [],
      "authorship_tag": "ABX9TyPudLAhFm9DDHJP5Ze5RpsB",
      "include_colab_link": true
    },
    "kernelspec": {
      "name": "python3",
      "display_name": "Python 3"
    },
    "language_info": {
      "name": "python"
    }
  },
  "cells": [
    {
      "cell_type": "markdown",
      "metadata": {
        "id": "view-in-github",
        "colab_type": "text"
      },
      "source": [
        "<a href=\"https://colab.research.google.com/github/JosephFalconio/Joseph-Falconio_dissertation/blob/main/IMD_analysis.ipynb\" target=\"_parent\"><img src=\"https://colab.research.google.com/assets/colab-badge.svg\" alt=\"Open In Colab\"/></a>"
      ]
    },
    {
      "cell_type": "code",
      "source": [
        "import pandas as pd\n",
        "\n",
        "#  Load IMD datasets\n",
        "imd_2010 = pd.read_csv('/content/IMD_2010_converted_2021_LSOA.csv')  # contains LSOA21CD and IMD_2010_in_2021_LSOA\n",
        "imd_2015 = pd.read_csv('/content/IMD_2015_converted_2021_LSOA (2).csv')  # contains LSOA21CD and IMD_2015_in_2021_LSOA\n",
        "imd_2019 = pd.read_csv('/content/IMD_2019_converted_2021_LSOA (1).csv')  # contains LSOA21CD and IMD_2019_in_2021_LSOA\n",
        "\n",
        "# Rename IMD columns to reflect actual year\n",
        "imd_2010 = imd_2010.rename(columns={'IMD_2010_in_2021_LSOA': 'IMD_2010'})\n",
        "imd_2015 = imd_2015.rename(columns={'IMD_2019_in_2021_LSOA': 'IMD_2015'})\n",
        "imd_2019 = imd_2019.rename(columns={'IMD_2019_in_2021_LSOA': 'IMD_2019'})\n",
        "\n",
        "#  Merge on LSOA21CD\n",
        "df = imd_2010.merge(imd_2015, on='LSOA21CD').merge(imd_2019, on='LSOA21CD')\n",
        "\n",
        "#  Calculate absolute change\n",
        "df['IMD_Change_2010_2019'] = df['IMD_2019'] - df['IMD_2010']\n",
        "df['IMD_Change_2015_2019'] = df['IMD_2019'] - df['IMD_2015']\n",
        "\n",
        "#  Export final dataset\n",
        "df.to_csv('imd_merged_with_absolute_changes.csv', index=False)\n",
        "print(\"IMD data merged and absolute changes calculated.\")\n",
        "\n"
      ],
      "metadata": {
        "colab": {
          "base_uri": "https://localhost:8080/"
        },
        "id": "gKU4lH-myInt",
        "outputId": "f0f194d4-66a6-4dae-ae08-df8780930657"
      },
      "execution_count": null,
      "outputs": [
        {
          "output_type": "stream",
          "name": "stdout",
          "text": [
            "✅ IMD data merged and absolute changes calculated.\n"
          ]
        }
      ]
    },
    {
      "cell_type": "code",
      "source": [
        "#ELE\n",
        "#  Define ELE LSOA list\n",
        "ele_lsoas = [\n",
        "    'E01011715', 'E01011719', 'E01011714', 'E01011716', 'E01011717', 'E01011718',\n",
        "    'E01011720', 'E01011721', 'E01011722', 'E01011723', 'E01011724',\n",
        "    'E01011406', 'E01011407', 'E01011408', 'E01011409', 'E01011410',\n",
        "    'E01011412', 'E01011411'\n",
        "]\n",
        "\n",
        "# Filter merged IMD dataframe\n",
        "ele_imd = df[df['LSOA21CD'].isin(ele_lsoas)].copy()\n",
        "\n",
        "# Export to CSV\n",
        "ele_imd.to_csv('imd_change_ELE_LSOAs.csv', index=False)\n",
        "print(\"Exported IMD change data for ELE LSOAs.\")\n"
      ],
      "metadata": {
        "colab": {
          "base_uri": "https://localhost:8080/"
        },
        "id": "y0obHIN26YSU",
        "outputId": "933ec7d6-1522-47ba-e863-6f4cff52b605"
      },
      "execution_count": null,
      "outputs": [
        {
          "output_type": "stream",
          "name": "stdout",
          "text": [
            "📁 Exported IMD change data for ELE LSOAs.\n"
          ]
        }
      ]
    },
    {
      "cell_type": "code",
      "source": [
        "#Top 10 2011-2021\n",
        "# Define top 10 urban growth LSOAs (2011–2021)\n",
        "top_growth_lsoas = [\n",
        "    'E01011516', 'E01011515', 'E01011323', 'E01011693', 'E01011673',\n",
        "    'E01011276', 'E01011632', 'E01011735', 'E01011293', 'E01011283'\n",
        "]\n",
        "\n",
        "#  Filter merged IMD dataframe\n",
        "top_growth_imd = df[df['LSOA21CD'].isin(top_growth_lsoas)].copy()\n",
        "\n",
        "# Export to CSV\n",
        "top_growth_imd.to_csv('imd_change_top10_growth_LSOAs.csv', index=False)\n",
        "print(\"Exported IMD change data for top 10 urban growth LSOAs.\")\n"
      ],
      "metadata": {
        "colab": {
          "base_uri": "https://localhost:8080/"
        },
        "id": "nqO3ZoC-8KYF",
        "outputId": "7a7ac85f-3eae-4598-8aa6-c4a52d6cc2fc"
      },
      "execution_count": null,
      "outputs": [
        {
          "output_type": "stream",
          "name": "stdout",
          "text": [
            "📁 Exported IMD change data for top 10 urban growth LSOAs.\n"
          ]
        }
      ]
    },
    {
      "cell_type": "code",
      "source": [
        "# Mean vlaues\n",
        "\n",
        "# Mean IMD change for all Leeds LSOAs\n",
        "mean_all_2010_2019 = df['IMD_Change_2010_2019'].mean()\n",
        "mean_all_2015_2019 = df['IMD_Change_2015_2019'].mean()\n",
        "\n",
        "#  Mean IMD change for ELE LSOAs\n",
        "mean_ele_2010_2019 = ele_imd['IMD_Change_2010_2019'].mean()\n",
        "mean_ele_2015_2019 = ele_imd['IMD_Change_2015_2019'].mean()\n",
        "\n",
        "# Mean IMD change for top 10 urban growth LSOAs\n",
        "mean_top10_2010_2019 = top_growth_imd['IMD_Change_2010_2019'].mean()\n",
        "mean_top10_2015_2019 = top_growth_imd['IMD_Change_2015_2019'].mean()\n",
        "\n",
        "# Print results\n",
        "print(\"Mean IMD Change (2010–2019):\")\n",
        "print(f\"All Leeds LSOAs: {mean_all_2010_2019:.2f}\")\n",
        "print(f\"ELE LSOAs:       {mean_ele_2010_2019:.2f}\")\n",
        "print(f\"Top 10 Growth:   {mean_top10_2010_2019:.2f}\\n\")\n",
        "\n",
        "print(\"Mean IMD Change (2015–2019):\")\n",
        "print(f\"All Leeds LSOAs: {mean_all_2015_2019:.2f}\")\n",
        "print(f\"ELE LSOAs:       {mean_ele_2015_2019:.2f}\")\n",
        "print(f\"Top 10 Growth:   {mean_top10_2015_2019:.2f}\")\n"
      ],
      "metadata": {
        "colab": {
          "base_uri": "https://localhost:8080/"
        },
        "id": "QwVJDitt83bR",
        "outputId": "fe38cbd2-b4c3-41b9-e80c-479bce67ee8b"
      },
      "execution_count": null,
      "outputs": [
        {
          "output_type": "stream",
          "name": "stdout",
          "text": [
            "📊 Mean IMD Change (2010–2019):\n",
            "All Leeds LSOAs: -0.64\n",
            "ELE LSOAs:       -0.72\n",
            "Top 10 Growth:   -0.60\n",
            "\n",
            "📊 Mean IMD Change (2015–2019):\n",
            "All Leeds LSOAs: -0.13\n",
            "ELE LSOAs:       -0.17\n",
            "Top 10 Growth:   -0.30\n"
          ]
        }
      ]
    },
    {
      "cell_type": "code",
      "source": [
        "import matplotlib.pyplot as plt\n",
        "\n",
        "# Updated labels\n",
        "labels = [\"Leeds\", \"ELE\", \"Top 10 LSOAs 2011–2021\"]\n",
        "\n",
        "imd_2010_2019 = [mean_all_2010_2019, mean_ele_2010_2019, mean_top10_2010_2019]\n",
        "imd_2015_2019 = [mean_all_2015_2019, mean_ele_2015_2019, mean_top10_2015_2019]\n",
        "\n",
        "x = range(len(labels))\n",
        "width = 0.25  # Thinner bars\n",
        "\n",
        "# Colorblind friendly palette\n",
        "color_2010_2019 = \"#0072B2\"\n",
        "color_2015_2019 = \"#D55E00\"\n",
        "\n",
        "plt.figure(figsize=(7, 4))\n",
        "plt.bar([i - width/2 for i in x], imd_2010_2019, width=width, label=\"2010–2019\", color=color_2010_2019)\n",
        "plt.bar([i + width/2 for i in x], imd_2015_2019, width=width, label=\"2015–2019\", color=color_2015_2019)\n",
        "\n",
        "plt.xticks(x, labels)\n",
        "plt.ylabel(\"Mean IMD Change\")\n",
        "plt.title(\"Mean IMD Change by Group\")\n",
        "plt.legend()\n",
        "\n",
        "# Add horizontal grid lines\n",
        "plt.grid(axis='y', linestyle='--', linewidth=0.5, alpha=0.7)\n",
        "\n",
        "plt.tight_layout()\n",
        "plt.show()\n",
        "\n"
      ],
      "metadata": {
        "colab": {
          "base_uri": "https://localhost:8080/",
          "height": 407
        },
        "id": "AlGpDUaaefM2",
        "outputId": "ed13e06c-f30b-4c72-9f9b-fc3cda54ae7b"
      },
      "execution_count": null,
      "outputs": [
        {
          "output_type": "display_data",
          "data": {
            "text/plain": [
              "<Figure size 700x400 with 1 Axes>"
            ],
            "image/png": "[encoded data removed]"
          },
          "metadata": {}
        }
      ]
    }
  ]
}